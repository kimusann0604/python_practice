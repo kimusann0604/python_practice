{
 "cells": [
  {
   "cell_type": "code",
   "execution_count": 1,
   "metadata": {},
   "outputs": [],
   "source": [
    "class my_status:\n",
    "    def __init__(self,age,name,height,weight):\n",
    "        self.age = age\n",
    "        self.name = name\n",
    "        self.height = height\n",
    "        self.weight = weight\n",
    "\n",
    "    def print_name(self):\n",
    "        print(self.name)\n",
    "\n",
    "    def print_age(self):\n",
    "        print(self.age)\n",
    "\n",
    "    def print_height(self):\n",
    "        print(self.height)\n",
    "\n",
    "    def print_weight(self):\n",
    "        print(self.weight)\n",
    "\n"
   ]
  },
  {
   "cell_type": "code",
   "execution_count": 2,
   "metadata": {},
   "outputs": [],
   "source": [
    "a = my_status(34,\"yamada\",170,78)"
   ]
  },
  {
   "cell_type": "code",
   "execution_count": 4,
   "metadata": {},
   "outputs": [
    {
     "name": "stdout",
     "output_type": "stream",
     "text": [
      "zero padding:     1234\n"
     ]
    }
   ],
   "source": [
    "i = 1234\n",
    "\n",
    "print(f'zero padding: {i:8}')"
   ]
  },
  {
   "cell_type": "code",
   "execution_count": 5,
   "metadata": {},
   "outputs": [
    {
     "name": "stdout",
     "output_type": "stream",
     "text": [
      "zero padding: 1234\n"
     ]
    }
   ],
   "source": [
    "i = 1234\n",
    "\n",
    "print(f'zero padding: {i:4}')"
   ]
  },
  {
   "cell_type": "code",
   "execution_count": 8,
   "metadata": {},
   "outputs": [
    {
     "name": "stdout",
     "output_type": "stream",
     "text": [
      "zero padding: 00001234\n"
     ]
    }
   ],
   "source": [
    "i = 1234\n",
    "\n",
    "print(f'zero padding: {i:08}')"
   ]
  },
  {
   "cell_type": "code",
   "execution_count": 12,
   "metadata": {},
   "outputs": [
    {
     "name": "stdout",
     "output_type": "stream",
     "text": [
      "7番目にh-Kはあります\n"
     ]
    }
   ],
   "source": [
    "def linear_search(card_list, card):\n",
    "    for i,element in enumerate(card_list, 1):\n",
    "        if element == card:\n",
    "            print(\"{0}番目に{1}はあります\".format(i, card))\n",
    "            return\n",
    "    print(\"{0}はありませんでした\".format(card))\n",
    "    return\n",
    "\n",
    "if __name__ == '__main__':\n",
    "    heart_cards = [\"h-5\",\"h-J\",\"h-2\",\"h-9\",\"h-1\",\"h-7\",\"h-K\",\"h-4\",\"h-10\",\"h-3\",\"h-6\",\"h-8\",\"h-Q\"]\n",
    "    heart_king = \"h-K\"\n",
    "    linear_search(heart_cards,heart_king)"
   ]
  },
  {
   "cell_type": "code",
   "execution_count": null,
   "metadata": {},
   "outputs": [],
   "source": [
    "def linear_search(card_list, card):\n",
    "    for i, element in enumerate(card_list, 1):\n",
    "        if element == card:\n",
    "            print(str(i) + \"番目に\" + card + \"はあります\")\n",
    "            return\n",
    "    print(card + \"はありませんでした\")\n",
    "    return\n",
    "\n",
    "if __name__ == '__main__':\n",
    "    heart_cards = [\"h-5\",\"h-J\",\"h-2\",\"h-9\",\"h-1\",\"h-7\",\"h-K\",\"h-4\",\"h-10\",\"h-3\",\"h-6\",\"h-8\",\"h-Q\"]\n",
    "    heart_king = \"h-K\"\n",
    "    linear_search(heart_cards, heart_king)"
   ]
  }
 ],
 "metadata": {
  "kernelspec": {
   "display_name": "python=3.5",
   "language": "python",
   "name": "python3"
  },
  "language_info": {
   "codemirror_mode": {
    "name": "ipython",
    "version": 3
   },
   "file_extension": ".py",
   "mimetype": "text/x-python",
   "name": "python",
   "nbconvert_exporter": "python",
   "pygments_lexer": "ipython3",
   "version": "3.12.2"
  }
 },
 "nbformat": 4,
 "nbformat_minor": 2
}
